{
  "cells": [
    {
      "cell_type": "markdown",
      "metadata": {
        "id": "view-in-github",
        "colab_type": "text"
      },
      "source": [
        "<a href=\"https://colab.research.google.com/github/Hamza00000/data/blob/main/Folder_Copier_Google_Drive_and_Mega10.ipynb\" target=\"_parent\"><img src=\"https://colab.research.google.com/assets/colab-badge.svg\" alt=\"Open In Colab\"/></a>"
      ]
    },
    {
      "cell_type": "markdown",
      "metadata": {
        "id": "KCJikoACNzLh"
      },
      "source": [
        "# **Google Drive Operations**\n",
        "\n",
        "---\n",
        "\n"
      ]
    },
    {
      "cell_type": "code",
      "execution_count": null,
      "metadata": {
        "cellView": "form",
        "id": "QtYoh9HeD5ZJ"
      },
      "outputs": [],
      "source": [
        "#@markdown <br><center><img src='https://lh3.googleusercontent.com/jif2vQzrpg8sMrFc4OiHgjy_VNm8mW0rfNBnPvmLfCPHD4C1H3ouEFtRGrxYvuoMl78=w2400' alt=\"GoogleDrive-logo\"/></center>"
      ]
    },
    {
      "cell_type": "code",
      "execution_count": null,
      "metadata": {
        "cellView": "form",
        "id": "d3KAxlFQ4N4K"
      },
      "outputs": [],
      "source": [
        "#@markdown Copy Files & Folders\n",
        "import os\n",
        "\n",
        "To_Copy = \"\" #@param {type:\"string\"}\n",
        "Destination1 = \"\" #@param {type:\"string\"}\n",
        "File_name = \"\" #@param {type:\"string\"}\n",
        "\n",
        "is_folder = 'Yes' #@param [\"Yes\", \"No\"]\n",
        "unzip_file = 'No' #@param [\"Yes\", \"No\"]\n",
        "extension = \"zip\" #@param [\"zip\", \"rar\", \"tar\", \"iso\"]\n",
        "\n",
        "Destination = \"/content/\" + Destination1\n",
        "\n",
        "try:\n",
        "  os.makedirs(Destination, exist_ok = True)\n",
        "except OSError as error:\n",
        "  print(\"Directory can not be created.\")\n",
        "\n",
        "if is_folder == \"Yes\":\n",
        "  tc1 = To_Copy + \"/\"\n",
        "  !sudo cp -v -r \"$tc1\" \"$Destination\"\n",
        "else:\n",
        "  tc1 = To_Copy\n",
        "  tc2 = Destination + \"/\"\n",
        "  tc3 = Destination + \"/\" + File_name + \".\" + extension\n",
        "  !sudo cp -v -r \"$tc1\" \"$tc3\"\n",
        "\n",
        "if is_folder == \"No\":\n",
        "  if unzip_file == \"Yes\":\n",
        "    if extension == \"zip\":\n",
        "      !unzip -q \"$tc3\" -d \"$tc2\"\n",
        "    elif extension == \"rar\":\n",
        "      !unrar x \"$tc3\" \"$tc2\"\n",
        "    elif extension == \"tar\":\n",
        "      !tar -xvf \"$tc3\" \"$tc2\"\n",
        "    elif extension == \"iso\":\n",
        "      !7z x -o{\"$tc2\"} \"$tc3\"\n",
        "\n",
        "    !rm \"$tc3\""
      ]
    },
    {
      "cell_type": "code",
      "execution_count": null,
      "metadata": {
        "cellView": "form",
        "id": "N5ycUyZeXCAY"
      },
      "outputs": [],
      "source": [
        "#@markdown Size of Folders\n",
        "import os\n",
        "\n",
        "path1 = \"\" #@param {type:\"string\"}\n",
        "def get_size(start_path =  path1):\n",
        "    total_size = 0\n",
        "    for dirpath, dirnames, filenames in os.walk(start_path):\n",
        "        for f in filenames:\n",
        "            fp = os.path.join(dirpath, f)\n",
        "            # skip if it is symbolic link\n",
        "            if not os.path.islink(fp):\n",
        "                total_size += os.path.getsize(fp)\n",
        "\n",
        "    return total_size\n",
        "\n",
        "by = get_size()\n",
        "k_b = by/1024\n",
        "m_b = k_b/1024\n",
        "g_b = m_b/1024\n",
        "\n",
        "print(by, 'bytes')\n",
        "print(k_b, 'kilobytes')\n",
        "print(m_b, 'megabytes')\n",
        "print(g_b, 'gigabytes')"
      ]
    },
    {
      "cell_type": "code",
      "execution_count": null,
      "metadata": {
        "cellView": "form",
        "id": "X0wY0hgRYMS0"
      },
      "outputs": [],
      "source": [
        "#@markdown Delete Folders\n",
        "import shutil\n",
        "\n",
        "dir_path = \"\" #@param {type:\"string\"}\n",
        "\n",
        "try:\n",
        "    shutil.rmtree(dir_path)\n",
        "except OSError as e:\n",
        "    print(\"Error: %s : %s\" % (dir_path, e.strerror))"
      ]
    },
    {
      "cell_type": "code",
      "source": [
        "#@markdown ZIP File\n",
        "import os\n",
        "from zipfile import ZipFile\n",
        "\n",
        "zip_path = \"\" #@param {type:\"string\"}\n",
        "store_path = \"\" #@param {type:\"string\"}\n",
        "file_name = \"\" #@param {type:\"string\"}\n",
        "\n",
        "ff = store_path + \"/\" + file_name\n",
        "\n",
        "# Create object of ZipFile\n",
        "with ZipFile(ff, 'w') as zip_object:\n",
        "   # Traverse all files in directory\n",
        "   for folder_name, sub_folders, file_names in os.walk(zip_path):\n",
        "      for filename in file_names:\n",
        "         # Create filepath of files in directory\n",
        "         file_path = os.path.join(folder_name, filename)\n",
        "         # Add files to zip file\n",
        "         zip_object.write(file_path, os.path.basename(file_path))\n",
        "\n",
        "if os.path.exists(ff):\n",
        "   print(\"ZIP file created\")\n",
        "else:\n",
        "   print(\"ZIP file not created\")"
      ],
      "metadata": {
        "cellView": "form",
        "id": "SH8hjIKe05A7"
      },
      "execution_count": null,
      "outputs": []
    },
    {
      "cell_type": "code",
      "execution_count": null,
      "metadata": {
        "cellView": "form",
        "id": "bM39zUBFTqOg"
      },
      "outputs": [],
      "source": [
        "#@markdown Extract ZIP File\n",
        "from zipfile import ZipFile\n",
        "\n",
        "file_path = \"\" #@param {type:\"string\"}\n",
        "dir_path = \"\" #@param {type:\"string\"}\n",
        "\n",
        "extension = \"zip\" #@param [\"zip\", \"rar\", \"tar\", \"iso\"]\n",
        "delete_file = 'No' #@param [\"Yes\", \"No\"]\n",
        "\n",
        "tc2 = dir_path + \"/\"\n",
        "tc3 = file_path\n",
        "\n",
        "if extension == \"zip\":\n",
        "  !unzip -q \"$tc3\" -d \"$tc2\"\n",
        "elif extension == \"rar\":\n",
        "  !unrar x \"$tc3\" \"$tc2\"\n",
        "elif extension == \"tar\":\n",
        "  !tar -xvf \"$tc3\" \"$tc2\"\n",
        "elif extension == \"iso\":\n",
        "  !7z x -o{\"$tc2\"} \"$tc3\"\n",
        "\n",
        "if delete_file == \"Yes\":\n",
        "  !rm \"$tc3\""
      ]
    },
    {
      "cell_type": "markdown",
      "metadata": {
        "id": "6Q0bvjs2pt41"
      },
      "source": [
        "# **Open Two Google Drives**\n",
        "\n",
        "---\n",
        "\n"
      ]
    },
    {
      "cell_type": "code",
      "execution_count": null,
      "metadata": {
        "id": "WFRNFcOFoXbA"
      },
      "outputs": [],
      "source": [
        "!sudo add-apt-repository -y ppa:alessandro-strada/ppa 2>&1 > /dev/null\n",
        "!sudo apt-get update -qq 2>&1 > /dev/null\n",
        "!sudo apt -y install -qq google-drive-ocamlfuse 2>&1 > /dev/null\n",
        "!google-drive-ocamlfuse"
      ]
    },
    {
      "cell_type": "code",
      "execution_count": null,
      "metadata": {
        "id": "PnVguotyoyNZ"
      },
      "outputs": [],
      "source": [
        "!sudo apt-get install -qq w3m # to act as web browser \n",
        "!xdg-settings set default-web-browser w3m.desktop # to set default browser\n",
        "%cd /content\n",
        "!mkdir drive1\n",
        "%cd drive1\n",
        "!mkdir MyDrive\n",
        "%cd ..\n",
        "%cd ..\n",
        "!google-drive-ocamlfuse /content/drive1/MyDrive"
      ]
    },
    {
      "cell_type": "markdown",
      "metadata": {
        "id": "jt_RqPgONgLl"
      },
      "source": [
        "#**MEGA to Google Drive Copier**\n",
        "\n",
        "---"
      ]
    },
    {
      "cell_type": "code",
      "execution_count": null,
      "metadata": {
        "cellView": "form",
        "id": "cXkTIKqMM-qw"
      },
      "outputs": [],
      "source": [
        "import sys, os, urllib.request\n",
        "import time\n",
        "import subprocess\n",
        "import contextlib\n",
        "from IPython.display import clear_output\n",
        "#@markdown <br><center><img src='https://lh3.googleusercontent.com/Bw3dV5G3pUp82jv1BK5lgCQNpJLBjb7g8ipQuLcsayObap7VU8jtEj933fLxPOHuY5E=w2400' alt=\"MEGA-logo\"/></center>\n",
        "\n",
        "HOME = os.path.expanduser(\"~\")\n",
        "if not os.path.exists(f\"{HOME}/.ipython/ocr.py\"):\n",
        "    hCode = \"https://raw.githubusercontent.com/biplobsd/\" \\\n",
        "                \"OneClickRun/master/res/ocr.py\"\n",
        "    urllib.request.urlretrieve(hCode, f\"{HOME}/.ipython/ocr.py\")\n",
        "\n",
        "from ocr import (\n",
        "    runSh,\n",
        "    loadingAn,\n",
        ")\n",
        "\n",
        "MegaUrl = \"\" #@param {type:\"string\"}\n",
        "TransferLocationOfGdrive = \"\" #@param {type:\"string\"}\n",
        "if not TransferLocationOfGdrive:\n",
        "  os.makedirs(\"downloads\", exist_ok=True)\n",
        "  TransferLocationOfGdrive = \"downloads\"\n",
        "# MEGAcmd installing\n",
        "if not os.path.exists(\"/usr/bin/mega-cmd\"):\n",
        "    loadingAn()\n",
        "    print(\"Installing MEGA ...\")\n",
        "    runSh('sudo apt-get -y update')\n",
        "    runSh('sudo apt-get -y install libmms0 libc-ares2 libc6 libcrypto++6 libgcc1 libmediainfo0v5 libpcre3 libpcrecpp0v5 libssl1.1 libstdc++6 libzen0v5 zlib1g apt-transport-https')\n",
        "    runSh('sudo curl -sL -o /var/cache/apt/archives/MEGAcmd.deb https://mega.nz/linux/MEGAsync/Debian_9.0/amd64/megacmd-Debian_9.0_amd64.deb', output=True)\n",
        "    runSh('sudo dpkg -i /var/cache/apt/archives/MEGAcmd.deb', output=True)\n",
        "    print(\"MEGA is installed.\")\n",
        "    clear_output()\n",
        "\n",
        "# Unix, Windows and old Macintosh end-of-line\n",
        "newlines = ['\\n', '\\r\\n', '\\r']\n",
        "\n",
        "def unbuffered(proc, stream='stdout'):\n",
        "    stream = getattr(proc, stream)\n",
        "    with contextlib.closing(stream):\n",
        "        while True:\n",
        "            out = []\n",
        "            last = stream.read(1)\n",
        "            # Don't loop forever\n",
        "            if last == '' and proc.poll() is not None:\n",
        "                break\n",
        "            while last not in newlines:\n",
        "                # Don't loop forever\n",
        "                if last == '' and proc.poll() is not None:\n",
        "                    break\n",
        "                out.append(last)\n",
        "                last = stream.read(1)\n",
        "            out = ''.join(out)\n",
        "            yield out\n",
        "\n",
        "\n",
        "def transfare():\n",
        "    import codecs\n",
        "    decoder = codecs.getincrementaldecoder(\"UTF-8\")()\n",
        "    cmd = [\"mega-get\", MegaUrl, TransferLocationOfGdrive]\n",
        "    proc = subprocess.Popen(\n",
        "        cmd,\n",
        "        stdout=subprocess.PIPE,\n",
        "        stderr=subprocess.STDOUT,\n",
        "        # Make all end-of-lines '\\n'\n",
        "        universal_newlines=True,\n",
        "    )\n",
        "    for line in unbuffered(proc):\n",
        "        print(line)\n",
        "        \n",
        "\n",
        "\n",
        "transfare()\n",
        "\n",
        "time.sleep(3)\n",
        "print(\"Completed\")\n",
        "from google.colab import runtime\n",
        "runtime.unassign()"
      ]
    },
    {
      "cell_type": "markdown",
      "metadata": {
        "id": "k-mB4NsurqE3"
      },
      "source": [
        "# **OneDrive to Google Drive**\n",
        "\n",
        "---\n",
        "\n"
      ]
    },
    {
      "cell_type": "code",
      "execution_count": null,
      "metadata": {
        "cellView": "form",
        "id": "z61Yaa5pr0Ge"
      },
      "outputs": [],
      "source": [
        "#@markdown <br><center><img src='https://lh6.googleusercontent.com/28WLmQyYj4DWgMNPDteCefBZq5RlR8Ox1m8fkoK5ntQg5zihm5hVA26jftZJiV7U7wA=w2400' alt=\"OneDrive-logo\"/></center>\n",
        "\n",
        "import pandas as pd\n",
        "import os\n",
        "from zipfile import ZipFile\n",
        "\n",
        "site_link = \"\"  #@param {type:\"string\"}\n",
        "destination = \"\"  #@param {type:\"string\"}\n",
        "name = \"\"  #@param {type:\"string\"}\n",
        "excel_file = 'No' #@param [\"Yes\", \"No\"]\n",
        "\n",
        "Sheet_Path = \"\" #@param {type:\"string\"}\n",
        "Sheet_Name = \"\" #@param {type:\"string\"}\n",
        "Zip_Files = 'No' #@param [\"Yes\", \"No\"]\n",
        "\n",
        "if excel_file == \"Yes\":\n",
        "  link_file = pd.read_excel(Sheet_Path, Sheet_Name)\n",
        "\n",
        "  if Zip_Files == \"Yes\":\n",
        "    for x in link_file.id:\n",
        "      InputUrl = link_file.link1[x]+\".zip\"\n",
        "      OutputDir = link_file.location[x]+\".zip\"\n",
        "\n",
        "      try:\n",
        "        os.makedirs(link_file.location[x], exist_ok = True)\n",
        "      except OSError as error:\n",
        "        print(\"Directory can not be created.\")\n",
        "\n",
        "      split_url = InputUrl.rfind('?')\n",
        "      converted_url = InputUrl[:split_url] + '?download=1'\n",
        "\n",
        "      !wget -O \"$OutputDir\" \"$converted_url\"\n",
        "\n",
        "      with ZipFile(OutputDir, 'r') as zip:\n",
        "        zip.extractall(link_file.location[x])\n",
        "      \n",
        "      os.remove(OutputDir)\n",
        "      print('Done!')\n",
        "      print(' ')\n",
        "\n",
        "  else:\n",
        "    for x in link_file.id:\n",
        "      InputUrl = link_file.link1[x]\n",
        "      OutputDir = link_file.location[x]+\"/\"+str(link_file.name[x])\n",
        "      OutputDirr = link_file.location[x]+\"/\"\n",
        "\n",
        "      try:\n",
        "        os.makedirs(link_file.location[x], exist_ok = True)\n",
        "      except OSError as error:\n",
        "        print(\"Directory can not be created.\")\n",
        "\n",
        "      split_url = InputUrl.rfind('?')\n",
        "      converted_url = InputUrl[:split_url] + '?download=1'\n",
        "\n",
        "      !wget -O \"$OutputDir\" -P \"$OutputDirr\" \"$converted_url\"\n",
        "\n",
        "      print('Done!')\n",
        "      print(' ')\n",
        "\n",
        "else:\n",
        "  InputUrl = site_link\n",
        "  OutputDir = destination+\"/\"+name\n",
        "  OutputDirr = destination+\"/\"\n",
        "\n",
        "  split_url = InputUrl.rfind('?')\n",
        "  converted_url = InputUrl[:split_url] + '?download=1'\n",
        "\n",
        "  !wget -O \"$OutputDir\" -P \"$OutputDirr\" \"$converted_url\"\n",
        "\n",
        "  print('Done!')\n",
        "  print(' ')"
      ]
    },
    {
      "cell_type": "code",
      "source": [
        "#@markdown Install RClone & 7-Zip\n",
        "\n",
        "!wget https://downloads.rclone.org/v1.62.2/rclone-v1.62.2-linux-amd64.deb\n",
        "!apt install ./rclone-v1.62.2-linux-amd64.deb\n",
        "!sudo apt-get -y install fuse3\n",
        "\n",
        "!wget https://www.7-zip.org/a/7z2201-linux-x64.tar.xz\n",
        "!mkdir /content/7zip\n",
        "!sudo tar -xf 7z2201-linux-x64.tar.xz -C \"/content/7zip\"\n",
        "!mv /content/7zip/7zz /usr/local/bin\n",
        "\n",
        "!rm 7z2201-linux-x64.tar.xz\n",
        "!rm rclone-v1.62.2-linux-amd64.deb\n",
        "!rm -rf /content/7zip"
      ],
      "metadata": {
        "cellView": "form",
        "id": "MiYhHoqMDcay"
      },
      "execution_count": null,
      "outputs": []
    },
    {
      "cell_type": "code",
      "source": [
        "#@markdown RClone Config\n",
        "\n",
        "!rclone config\n",
        "\n",
        "from google.colab import files\n",
        "files.download('/root/.rclone.conf') "
      ],
      "metadata": {
        "id": "2zbWu8Qghkb7",
        "cellView": "form"
      },
      "execution_count": null,
      "outputs": []
    },
    {
      "cell_type": "code",
      "source": [
        "#@markdown RClone Config Upload\n",
        "\n",
        "from google.colab import files\n",
        "\n",
        "source = files.upload()\n",
        "\n",
        "!cp rclone.conf /root/\n",
        "!mv /root/rclone.conf /root/.rclone.conf\n",
        "!mv rclone.conf /root/.config/rclone"
      ],
      "metadata": {
        "cellView": "form",
        "id": "OA_uOTBkLuyC"
      },
      "execution_count": null,
      "outputs": []
    },
    {
      "cell_type": "code",
      "source": [
        "#@markdown List Directories\n",
        "\n",
        "drive = \"onedrive2\" #@param {type:\"string\"}\n",
        "\n",
        "dr1 = drive + \":\"\n",
        "\n",
        "!rclone lsd \"$dr1\""
      ],
      "metadata": {
        "id": "9e-mXdqRb_J-",
        "cellView": "form"
      },
      "execution_count": null,
      "outputs": []
    },
    {
      "cell_type": "code",
      "source": [
        "#@markdown Download Folders\n",
        "\n",
        "file_name = \"\" #@param {type:\"string\"}\n",
        "url_link = \"\" #@param {type:\"string\"}\n",
        "raw_data = \"\" #@param {type:\"string\"}\n",
        "\n",
        "!wget --post-data \"$raw_data\" -O \"$file_name\" \"$url_link\""
      ],
      "metadata": {
        "cellView": "form",
        "id": "aF_FB4TOy0qG"
      },
      "execution_count": null,
      "outputs": []
    },
    {
      "cell_type": "code",
      "source": [
        "#@markdown Download Folders in Background\n",
        "\n",
        "file_name = \"\" #@param {type:\"string\"}\n",
        "url_link = \"\" #@param {type:\"string\"}\n",
        "raw_data = \"\" #@param {type:\"string\"}\n",
        "\n",
        "!rm nohup.out\n",
        "!nohup wget --post-data \"$raw_data\" -O \"$file_name\" \"$url_link\" &"
      ],
      "metadata": {
        "cellView": "form",
        "id": "8IQnSVCux2j-"
      },
      "execution_count": null,
      "outputs": []
    },
    {
      "cell_type": "code",
      "source": [
        "#@markdown Extract 7-Zip Files\n",
        "\n",
        "file_path = \"\" #@param {type:\"string\"}\n",
        "\n",
        "!7zz x \"$file_path\""
      ],
      "metadata": {
        "cellView": "form",
        "id": "V01rLkUvJPrs"
      },
      "execution_count": null,
      "outputs": []
    },
    {
      "cell_type": "code",
      "source": [
        "#@markdown Copy Folders to OneDrive\n",
        "\n",
        "To_Copy = \"\" #@param {type:\"string\"}\n",
        "remote_name = \"onedrive2\" #@param {type:\"string\"}\n",
        "Destination = remote_name +  \":\" + To_Copy\n",
        "add_drive = \"No\" #@param [\"Yes\", \"No\"]\n",
        "\n",
        "if add_drive == \"Yes\":\n",
        "  tc1 = \"/content/drive/MyDrive/\" + To_Copy\n",
        "else:\n",
        "  tc1 = \"/content/\" + To_Copy\n",
        "\n",
        "!rclone copy -v --stats 5s \"$tc1\" \"$Destination\""
      ],
      "metadata": {
        "cellView": "form",
        "id": "tXReuZgSRCaI"
      },
      "execution_count": null,
      "outputs": []
    },
    {
      "cell_type": "code",
      "source": [
        "#@markdown Background Copy Folders to OneDrive\n",
        "\n",
        "To_Copy = \"\" #@param {type:\"string\"}\n",
        "remote_name = \"onedrive2\" #@param {type:\"string\"}\n",
        "Destination = remote_name +  \":\" + To_Copy\n",
        "add_drive = \"No\" #@param [\"Yes\", \"No\"]\n",
        "\n",
        "if add_drive == \"Yes\":\n",
        "  tc1 = \"/content/drive/MyDrive/\" + To_Copy\n",
        "else:\n",
        "  tc1 = \"/content/\" + To_Copy\n",
        "\n",
        "!rm nohup.out\n",
        "!nohup rclone copy -v --stats 5s \"$tc1\" \"$Destination\" &"
      ],
      "metadata": {
        "cellView": "form",
        "id": "IOj65sZgC-iC"
      },
      "execution_count": null,
      "outputs": []
    },
    {
      "cell_type": "code",
      "source": [
        "#@markdown Sync Folders to OneDrive\n",
        "\n",
        "To_Copy = \"\" #@param {type:\"string\"}\n",
        "remote_name = \"onedrive2\" #@param {type:\"string\"}\n",
        "Destination = remote_name +  \":\" + To_Copy\n",
        "add_drive = \"No\" #@param [\"Yes\", \"No\"]\n",
        "\n",
        "if add_drive == \"Yes\":\n",
        "  tc1 = \"/content/drive/MyDrive/\" + To_Copy\n",
        "else:\n",
        "  tc1 = \"/content/\" + To_Copy\n",
        "\n",
        "!rclone sync -v --stats 5s \"$tc1\" \"$Destination\""
      ],
      "metadata": {
        "cellView": "form",
        "id": "5_ASj4PjkJM5"
      },
      "execution_count": null,
      "outputs": []
    },
    {
      "cell_type": "code",
      "source": [
        "#@markdown Copy Folders Between Remote Drives\n",
        "\n",
        "remote1 = \"onedrive\" #@param {type:\"string\"}\n",
        "folder_name = \"\" #@param {type:\"string\"}\n",
        "tc1 = remote1 + \":\" + folder_name\n",
        "\n",
        "remote2 = \"onedrive2\" #@param {type:\"string\"}\n",
        "Destination = remote2 + \":\" + folder_name\n",
        "\n",
        "!rclone copy -v --stats 5s \"$tc1\" \"$Destination\""
      ],
      "metadata": {
        "cellView": "form",
        "id": "KAXH_vBuelGE"
      },
      "execution_count": null,
      "outputs": []
    },
    {
      "cell_type": "code",
      "source": [
        "#@markdown Background Copy Folders Between Remote Drives\n",
        "\n",
        "remote1 = \"onedrive\" #@param {type:\"string\"}\n",
        "folder_name = \"\" #@param {type:\"string\"}\n",
        "tc1 = remote1 + \":\" + folder_name\n",
        "\n",
        "remote2 = \"onedrive2\" #@param {type:\"string\"}\n",
        "Destination = remote2 + \":\" + folder_name\n",
        "\n",
        "!rm nohup.out\n",
        "!nohup rclone copy -v --stats 5s \"$tc1\" \"$Destination\" &"
      ],
      "metadata": {
        "cellView": "form",
        "id": "t1xavDKxRo7G"
      },
      "execution_count": null,
      "outputs": []
    },
    {
      "cell_type": "code",
      "source": [
        "#@markdown Mount OneDrive\n",
        "\n",
        "!sudo mkdir /content/onedrive\n",
        "!nohup rclone --vfs-cache-mode writes mount onedrive: /content/onedrive &"
      ],
      "metadata": {
        "id": "vijRoCDjdAoz",
        "cellView": "form"
      },
      "execution_count": null,
      "outputs": []
    },
    {
      "cell_type": "code",
      "source": [
        "#@markdown Copy Folders using RSync\n",
        "import os\n",
        "\n",
        "To_Copy = \"\" #@param {type:\"string\"}\n",
        "Destination = \"/content/onedrive/\" + To_Copy\n",
        "\n",
        "tc1 = \"/content/\" + To_Copy\n",
        "\n",
        "try:\n",
        "  os.makedirs(Destination, exist_ok = True)\n",
        "except OSError as error:\n",
        "  print(\"Directory can not be created.\")\n",
        "\n",
        "!rsync --ignore-existing --recursive --info=progress2 \"$tc1\" \"$Destination\""
      ],
      "metadata": {
        "cellView": "form",
        "id": "LYvOlJN2gSUh"
      },
      "execution_count": null,
      "outputs": []
    },
    {
      "cell_type": "markdown",
      "metadata": {
        "id": "augFsr6_aXF5"
      },
      "source": [
        "# **Torrent to Google Drive**\n",
        "\n",
        "---\n",
        "\n"
      ]
    },
    {
      "cell_type": "code",
      "execution_count": null,
      "metadata": {
        "cellView": "form",
        "id": "9JdIMtGPaMeG"
      },
      "outputs": [],
      "source": [
        "#@markdown <br><center><img src='https://lh4.googleusercontent.com/s5miuKc7Iv0IWgIiX2AEWmsXHAdVs0sIfjlBCKFk0PM4U4Kmig5itnkIfpjHtxeV-HQ=w2400' alt=\"Bittorent-logo\"/></center>\n",
        "\n",
        "#@markdown Install Library\n",
        "\n",
        "!python -m pip install --upgrade pip setuptools wheel\n",
        "!python -m pip install lbry-libtorrent\n",
        "!apt install python3-libtorrent\n",
        "\n",
        "import libtorrent as lt\n",
        "\n",
        "ses = lt.session()\n",
        "ses.listen_on(6881, 6891)\n",
        "downloads = []"
      ]
    },
    {
      "cell_type": "code",
      "execution_count": null,
      "metadata": {
        "cellView": "form",
        "id": "ykJj06pHeqrv"
      },
      "outputs": [],
      "source": [
        "#@markdown Upload Torrent\n",
        "from google.colab import files\n",
        "\n",
        "source = files.upload()\n",
        "params = {\n",
        "    \"save_path\": \"/content/drive/MyDrive/Torrent\",\n",
        "    \"ti\": lt.torrent_info(list(source.keys())[0]),\n",
        "}\n",
        "downloads.append(ses.add_torrent(params))"
      ]
    },
    {
      "cell_type": "code",
      "execution_count": null,
      "metadata": {
        "cellView": "form",
        "id": "meXGjD2RiIzY"
      },
      "outputs": [],
      "source": [
        "#@markdown Magnet Link Download\n",
        "params = {\"save_path\": \"/content/drive/MyDrive/Torrent\"}\n",
        "\n",
        "while True:\n",
        "    magnet_link = input(\"Enter Magnet Link Or Type Exit: \")\n",
        "    if magnet_link.lower() == \"exit\":\n",
        "        break\n",
        "    downloads.append(\n",
        "        lt.add_magnet_uri(ses, magnet_link, params)\n",
        "    )\n"
      ]
    },
    {
      "cell_type": "code",
      "execution_count": null,
      "metadata": {
        "cellView": "form",
        "id": "zhZcK7MgiHS7"
      },
      "outputs": [],
      "source": [
        "#@markdown Start Download\n",
        "import time\n",
        "from IPython.display import display\n",
        "import ipywidgets as widgets\n",
        "\n",
        "state_str = [\n",
        "    \"queued\",\n",
        "    \"checking\",\n",
        "    \"downloading metadata\",\n",
        "    \"downloading\",\n",
        "    \"finished\",\n",
        "    \"seeding\",\n",
        "    \"allocating\",\n",
        "    \"checking fastresume\",\n",
        "]\n",
        "\n",
        "layout = widgets.Layout(width=\"auto\")\n",
        "style = {\"description_width\": \"initial\"}\n",
        "download_bars = [\n",
        "    widgets.FloatSlider(\n",
        "        step=0.01, disabled=True, layout=layout, style=style\n",
        "    )\n",
        "    for _ in downloads\n",
        "]\n",
        "display(*download_bars)\n",
        "\n",
        "while downloads:\n",
        "    next_shift = 0\n",
        "    for index, download in enumerate(downloads[:]):\n",
        "        bar = download_bars[index + next_shift]\n",
        "        if not download.is_seed():\n",
        "            s = download.status()\n",
        "\n",
        "            bar.description = \" \".join(\n",
        "                [\n",
        "                    download.name(),\n",
        "                    str(s.download_rate / 1000),\n",
        "                    \"kB/s\",\n",
        "                    state_str[s.state],\n",
        "                ]\n",
        "            )\n",
        "            bar.value = s.progress * 100\n",
        "        else:\n",
        "            next_shift -= 1\n",
        "            ses.remove_torrent(download)\n",
        "            downloads.remove(download)\n",
        "            bar.close() # Seems to be not working in Colab (see https://github.com/googlecolab/colabtools/issues/726#issue-486731758)\n",
        "            download_bars.remove(bar)\n",
        "            print(download.name(), \"complete\")\n",
        "    time.sleep(1)\n"
      ]
    },
    {
      "cell_type": "markdown",
      "metadata": {
        "id": "M3x1DpmWjwZ3"
      },
      "source": [
        "# **Any Download Link**\n",
        "\n",
        "---\n",
        "\n"
      ]
    },
    {
      "cell_type": "code",
      "execution_count": null,
      "metadata": {
        "cellView": "form",
        "id": "UQjyRnccj2it"
      },
      "outputs": [],
      "source": [
        "#@markdown Place File Extension Also\n",
        "direct_URL = \"\" #@param {type:\"string\"}\n",
        "output_dir = \"\" #@param {type:\"string\"}\n",
        "\n",
        "!wget -O \"$output_dir\" \"$direct_URL\""
      ]
    },
    {
      "cell_type": "markdown",
      "metadata": {
        "id": "aFulYXtSZCuB"
      },
      "source": [
        "# **Udemy Downloader**\n",
        "\n",
        "---\n",
        "\n"
      ]
    },
    {
      "cell_type": "code",
      "execution_count": null,
      "metadata": {
        "cellView": "form",
        "id": "mcEi_Rnrci0X"
      },
      "outputs": [],
      "source": [
        "#@markdown <br><center><img src='https://lh5.googleusercontent.com/li86RaGIKgy4GQJQGP3P-BWeQ6I9fj-fbi9uTQgNtLrdyJPWHRoCZziY6HdOEP-oNpc=w2400' alt=\"Udemy-logo\"/></center>\n",
        "\n",
        "#@markdown Install Library\n",
        "\n",
        "!pip install --upgrade youtube-dl\n",
        "import pandas as pd\n"
      ]
    },
    {
      "cell_type": "code",
      "execution_count": null,
      "metadata": {
        "cellView": "form",
        "id": "hthhcJsIbN_w"
      },
      "outputs": [],
      "source": [
        "#@markdown Download Course\n",
        "\n",
        "cookies_path = \"\" #@param {type:\"string\"}\n",
        "output_path = \"\" #@param {type:\"string\"}\n",
        "udemy_link = \"\" #@param {type:\"string\"}\n",
        "folder_name = \"\" #@param {type:\"string\"}\n",
        "\n",
        "file_name = \"%(chapter_number)s - %(chapter)s/%(playlist_index)s. %(title)s.%(ext)s\"\n",
        "outf = output_path + \"/\" + folder_name + \"/\" + file_name\n",
        "\n",
        "split_url1 = udemy_link.rfind('/')\n",
        "converted_url1 = udemy_link[:split_url1]\n",
        "split_url2 = converted_url1.rfind('/')\n",
        "converted_url2 = \"https://www.udemy.com\" + converted_url1[split_url2:] + \"/\"\n",
        "\n",
        "!youtube-dl --write-sub --sub-lang en --cookies \"$cookies_path\" -o \"$outf\" -i \"$converted_url2\"\n"
      ]
    },
    {
      "cell_type": "code",
      "execution_count": null,
      "metadata": {
        "cellView": "form",
        "id": "AZbyHwu80gsx"
      },
      "outputs": [],
      "source": [
        "#@markdown Download Courses From Excel File\n",
        "\n",
        "cookies_path = \"\" #@param {type:\"string\"}\n",
        "output_path = \"\" #@param {type:\"string\"}\n",
        "\n",
        "Sheet_Path = \"\" #@param {type:\"string\"}\n",
        "Sheet_Name = \"\" #@param {type:\"string\"}\n",
        "link_file = pd.read_excel(Sheet_Path, Sheet_Name)\n",
        "\n",
        "file_name = \"%(chapter_number)s - %(chapter)s/%(playlist_index)s. %(title)s.%(ext)s\"\n",
        "\n",
        "for x in link_file.id:\n",
        "  udemy_link = link_file.link1[x]\n",
        "  folder_name = link_file.location[x]\n",
        "\n",
        "  outf = output_path + \"/\" + folder_name + \"/\" + file_name\n",
        "\n",
        "  split_url1 = udemy_link.rfind('/')\n",
        "  converted_url1 = udemy_link[:split_url1]\n",
        "  split_url2 = converted_url1.rfind('/')\n",
        "  converted_url2 = \"https://www.udemy.com\" + converted_url1[split_url2:] + \"/\"\n",
        "\n",
        "  !youtube-dl --write-sub --sub-lang en --cookies \"$cookies_path\" -o \"$outf\" -i \"$converted_url2\"\n",
        "\n",
        "  print(' ')\n",
        "  print('Done!')\n",
        "  print(' ')\n"
      ]
    },
    {
      "cell_type": "markdown",
      "source": [
        "# **YouTube Downloader**"
      ],
      "metadata": {
        "id": "TQsbRfkqPOo4"
      }
    },
    {
      "cell_type": "code",
      "source": [
        "#@markdown <br><center><img src='https://lh4.googleusercontent.com/V00q9D7ENqGZ7p_zcz7tvmxpyw0-mzvrdwku9a1ly88EWDlRuxgU-LlcbJSrF-TH9sI=w2400' alt=\"Youtube-logo\"/></center>\n",
        "\n",
        "#@markdown Install Library\n",
        "\n",
        "!pip install --upgrade youtube-dl\n",
        "!pip install --upgrade yt-dlp\n",
        "import pandas as pd\n"
      ],
      "metadata": {
        "cellView": "form",
        "id": "vrAlvlhxPISE"
      },
      "execution_count": null,
      "outputs": []
    },
    {
      "cell_type": "code",
      "source": [
        "#@markdown Download Videos From Excel File\n",
        "\n",
        "output_path = \"\" #@param {type:\"string\"}\n",
        "\n",
        "Sheet_Path = \"\" #@param {type:\"string\"}\n",
        "Sheet_Name = \"\" #@param {type:\"string\"}\n",
        "downloader = 'yt-dlp' #@param [\"youtube-dl\", \"yt-dlp\"]\n",
        "format = 'mp4' #@param {type:\"string\"}\n",
        "link_file = pd.read_excel(Sheet_Path, Sheet_Name)\n",
        "\n",
        "for x in link_file.id1:\n",
        "  url = link_file.link1[x]\n",
        "  outf = output_path + \"/\" + Sheet_Name + \"/\" + link_file.name1[x] + \".%(ext)s\"\n",
        "\n",
        "  txt = \"Downloading \" +str(x+1)+\" of \"+str(max(link_file.id1)+1)+\"...\"\n",
        "  print(txt)\n",
        "\n",
        "  if downloader == \"yt-dlp\":\n",
        "    !yt-dlp -f \"$format\" -o \"$outf\" -i \"$url\"\n",
        "  else:\n",
        "    !youtube-dl -f \"$format\" -o \"$outf\" -i \"$url\"\n",
        "\n",
        "  print(' ')\n",
        "  print('Done!')\n",
        "  print(' ')\n"
      ],
      "metadata": {
        "cellView": "form",
        "id": "pA52dwCPPNHE"
      },
      "execution_count": null,
      "outputs": []
    },
    {
      "cell_type": "code",
      "source": [
        "#@markdown Download Playlist\n",
        "\n",
        "output_path = \"\" #@param {type:\"string\"}\n",
        "\n",
        "url = \"\" #@param {type:\"string\"}\n",
        "playlist_name = \"\" #@param {type:\"string\"}\n",
        "downloader = 'yt-dlp' #@param [\"youtube-dl\", \"yt-dlp\"]\n",
        "format = 'mp4' #@param {type:\"string\"}\n",
        "\n",
        "file_name = \"%(playlist_index)s. %(title)s.%(ext)s\"\n",
        "outf = output_path + \"/\" + playlist_name + \"/\" + file_name\n",
        "\n",
        "if downloader == \"yt-dlp\":\n",
        "  !yt-dlp -f \"$format\" -o \"$outf\" -i --yes-playlist \"$url\"\n",
        "else:\n",
        "  !youtube-dl -f \"$format\" -o \"$outf\" -i \"$url\"\n",
        "\n",
        "print(' ')\n",
        "print('Done!')\n",
        "print(' ')"
      ],
      "metadata": {
        "cellView": "form",
        "id": "gYsosngDKY5S"
      },
      "execution_count": null,
      "outputs": []
    },
    {
      "cell_type": "markdown",
      "source": [
        "# **PDF Operations**\n",
        "\n",
        "---\n",
        "\n"
      ],
      "metadata": {
        "id": "6fMvdFDQNoY5"
      }
    },
    {
      "cell_type": "code",
      "source": [
        "#@markdown <br><center><img src='https://lh5.googleusercontent.com/TT11cv8qXnkrZb5Z3EQqb6Zmb15oudHvmEbI42-AcTHBQP2ZajhmPG5mhnVLKCjtbdw=w2400' alt=\"adobepdf-logo\"/></center>\n",
        "\n",
        "#@markdown Install Library\n",
        "!pip install pdfkit\n",
        "!sudo apt-get install wkhtmltopdf\n",
        "!sudo apt-get install xvfb\n",
        "!printf '#!/bin/bash\\nxvfb-run -a --server-args=\"-screen 0, 1920x1080x24\" /usr/bin/wkhtmltopdf -q $*' > /usr/bin/wkhtmltopdf.sh\n",
        "!chmod a+x /usr/bin/wkhtmltopdf.sh\n",
        "!ln -s /usr/bin/wkhtmltopdf.sh /usr/local/bin/wkhtmltopdf\n",
        "!pip install pypdf"
      ],
      "metadata": {
        "cellView": "form",
        "id": "DCP4uRObAd6I"
      },
      "execution_count": null,
      "outputs": []
    },
    {
      "cell_type": "code",
      "source": [
        "#@markdown Install Arabic Font\n",
        "!sudo apt-add-repository universe\n",
        "!sudo apt-get update\n",
        "!sudo apt-get install fonts-hosny-amiri"
      ],
      "metadata": {
        "cellView": "form",
        "id": "Awu1iIzJlTj0"
      },
      "execution_count": null,
      "outputs": []
    },
    {
      "cell_type": "code",
      "source": [
        "#@markdown Create PDFs\n",
        "import pdfkit\n",
        "\n",
        "site = \"\"  #@param {type:\"string\"}\n",
        "destination = \"\"  #@param {type:\"string\"}\n",
        "iterations =  None #@param {type:\"integer\"}\n",
        "start = None  #@param {type:\"integer\"}\n",
        "single_site = 'No' #@param [\"Yes\", \"No\"]\n",
        "images = 'Yes' #@param [\"Yes\", \"No\"]\n",
        "excel_file = 'Yes' #@param [\"Yes\", \"No\"]\n",
        "one_folder = 'Yes' #@param [\"Yes\", \"No\"]\n",
        "Sheet_Path = \"\" #@param {type:\"string\"}\n",
        "Sheet_Name = \"\" #@param {type:\"string\"}\n",
        "trailing = \"\" #@param {type:\"string\"}\n",
        "y = start\n",
        "\n",
        "if images == \"Yes\":\n",
        "  op = {\n",
        "      'page-size': 'A4',\n",
        "      'load-error-handling': 'ignore'\n",
        "  }\n",
        "else:\n",
        "  op = {\n",
        "      'page-size': 'A4',\n",
        "      'no-images':None,\n",
        "      'load-error-handling': 'ignore'\n",
        "  }\n",
        "\n",
        "if excel_file == \"Yes\":\n",
        "  import pandas as pd\n",
        "  import os\n",
        "  link_file = pd.read_excel(Sheet_Path, Sheet_Name)\n",
        "\n",
        "  if one_folder == \"Yes\":\n",
        "    OutputDir = destination + \"/\" + Sheet_Name\n",
        "\n",
        "    try:\n",
        "      os.makedirs(OutputDir, exist_ok = True)\n",
        "    except OSError as error:\n",
        "      print(\"Directory can not be created.\")\n",
        "\n",
        "    for z in link_file.id:\n",
        "      \n",
        "      iter = int(link_file.page1[z])\n",
        "\n",
        "      txt = \"Creating \" +str(z+1)+\" of \"+str(max(link_file.id)+1)+\"...\"\n",
        "      print(txt)\n",
        "\n",
        "      for x in range(iter):\n",
        "        site2 = link_file.link1[z] + \"/\" + link_file.name1[z] + trailing\n",
        "        dest2 = OutputDir + \"/\" + link_file.name1[z] + \".pdf\"\n",
        "\n",
        "        pdfkit.from_url(site2,dest2, options=op)\n",
        "      \n",
        "      print(' Done! ')\n",
        "      print(' ')\n",
        "\n",
        "  else:\n",
        "\n",
        "    for z in link_file.id:\n",
        "\n",
        "      OutputDir = destination + \"/\" + link_file.name1[z]\n",
        "      iter = int(link_file.page1[z])\n",
        "\n",
        "      txt = \"Creating \" +str(z+1)+\" of \"+str(max(link_file.id)+1)+\"...\"\n",
        "      print(txt)\n",
        "\n",
        "      try:\n",
        "        os.makedirs(OutputDir, exist_ok = True)\n",
        "      except OSError as error:\n",
        "        print(\"Directory can not be created.\")\n",
        "\n",
        "      for x in range(iter):\n",
        "        site2 = link_file.link1[z] + \"/\" + str(x+1) + trailing\n",
        "        dest2 = OutputDir + \"/\" + str(x+1) + \".pdf\"\n",
        "\n",
        "        pdfkit.from_url(site2,dest2, options=op)\n",
        "      \n",
        "      print(' Done! ')\n",
        "      print(' ')\n",
        "\n",
        "else:\n",
        "  \n",
        "    if single_site == \"Yes\":\n",
        "      site2 = site\n",
        "      dest2 = destination + \"/\" + \"webpage.pdf\"\n",
        "\n",
        "      pdfkit.from_url(site2,dest2, options=op)\n",
        "    else:\n",
        "      for x in range(iterations):\n",
        "        site2 = site + \"/\" + str(y)\n",
        "        dest2 = destination + \"/\" + str(y)+\".pdf\"\n",
        "\n",
        "        pdfkit.from_url(site2,dest2, options=op)\n",
        "        y = y+1"
      ],
      "metadata": {
        "cellView": "form",
        "id": "SXv_7mZABmG9"
      },
      "execution_count": null,
      "outputs": []
    },
    {
      "cell_type": "code",
      "source": [
        "#@markdown Merge PDFs\n",
        "from pypdf import PdfReader\n",
        "from pypdf import PdfWriter\n",
        "\n",
        "source = \"\"  #@param {type:\"string\"}\n",
        "iterations =  None #@param {type:\"integer\"}\n",
        "start = None  #@param {type:\"integer\"}\n",
        "remove_end_pages = None  #@param {type:\"integer\"}\n",
        "excel_file = 'Yes' #@param [\"Yes\", \"No\"]\n",
        "Sheet_Path = \"\" #@param {type:\"string\"}\n",
        "Sheet_Name = \"\" #@param {type:\"string\"}\n",
        "y = start\n",
        "\n",
        "if excel_file == \"Yes\":\n",
        "  import pandas as pd\n",
        "\n",
        "  link_file = pd.read_excel(Sheet_Path, Sheet_Name)\n",
        "\n",
        "  for z in link_file.id:\n",
        "    OutputDir = source + \"/\" + link_file.name1[z]\n",
        "    iter = int(link_file.page1[z])\n",
        "\n",
        "    txt = \"Merging \" +str(z+1)+\" of \"+str(max(link_file.id)+1)+\"...\"\n",
        "    print(txt)\n",
        "\n",
        "    merger = PdfWriter()\n",
        "    \n",
        "    for x in range(iter):\n",
        "      source2 = OutputDir + \"/\" + str(x+1) + \".pdf\"\n",
        "      reader = PdfReader(source2)\n",
        "\n",
        "      meta = reader.metadata\n",
        "      p = len(reader.pages)-remove_end_pages\n",
        "\n",
        "      input1 = open(source2, \"rb\")\n",
        "      merger.append(fileobj=input1, pages=(0, p))\n",
        "\n",
        "    dest2 = OutputDir + \".pdf\"\n",
        "    merger.write(dest2)\n",
        "    merger.close()\n",
        "\n",
        "    print(' Done! ')\n",
        "    print(' ')\n",
        "\n",
        "else:\n",
        "  merger = PdfWriter()\n",
        "\n",
        "  for x in range(iterations):\n",
        "    source2 = source + \"/\" + str(y) + \".pdf\"\n",
        "    reader = PdfReader(source2)\n",
        "\n",
        "    meta = reader.metadata\n",
        "    p = len(reader.pages)-remove_end_pages\n",
        "\n",
        "    input1 = open(source2, \"rb\")\n",
        "    merger.append(fileobj=input1, pages=(0, p))\n",
        "    y = y+1\n",
        "\n",
        "  dest2 = source + \"/\" + \"merged-pdf.pdf\"\n",
        "  merger.write(dest2)\n",
        "  merger.close()"
      ],
      "metadata": {
        "cellView": "form",
        "id": "WosuMfCKL4Op"
      },
      "execution_count": null,
      "outputs": []
    },
    {
      "cell_type": "code",
      "source": [
        "#@markdown PDF Compression\n",
        "from pypdf import PdfReader, PdfWriter\n",
        "\n",
        "location = \"\"  #@param {type:\"string\"}\n",
        "pdf_file = \"\"  #@param {type:\"string\"}\n",
        "conv_type = 'Lossless Compression' #@param [\"Remove Duplicates\", \"Remove Images\", \"Lossless Compression\"]\n",
        "\n",
        "reader = PdfReader(source)\n",
        "writer = PdfWriter()\n",
        "\n",
        "if conv_type == \"Remove Duplicates\":\n",
        "  for page in reader.pages:\n",
        "    writer.add_page(page)\n",
        "  writer.add_metadata(reader.metadata)\n",
        "  dest2 = location + \"/\" + \"duplicates-removed.pdf\"\n",
        "elif conv_type == \"Remove Images\":\n",
        "  for page in reader.pages:\n",
        "    writer.add_page(page)\n",
        "  writer.remove_images()\n",
        "  dest2 = location + \"/\" + \"images-removed.pdf\"\n",
        "elif conv_type == \"Lossless Compression\":\n",
        "  for page in reader.pages:\n",
        "    page.compress_content_streams()  # This is CPU intensive!\n",
        "    writer.add_page(page)\n",
        "  dest2 = location + \"/\" + \"lossless-compression.pdf\"\n",
        "\n",
        "source = location + \"/\" + pdf_file\n",
        "f = open(dest2, \"w\")\n",
        "f.close()\n",
        "with open(dest2, \"wb\") as fp:\n",
        "    writer.write(fp)"
      ],
      "metadata": {
        "cellView": "form",
        "id": "dIObT1mwW-NV"
      },
      "execution_count": null,
      "outputs": []
    }
  ],
  "metadata": {
    "colab": {
      "collapsed_sections": [
        "6Q0bvjs2pt41",
        "jt_RqPgONgLl",
        "k-mB4NsurqE3",
        "M3x1DpmWjwZ3",
        "aFulYXtSZCuB",
        "TQsbRfkqPOo4",
        "6fMvdFDQNoY5"
      ],
      "provenance": [],
      "mount_file_id": "https://github.com/Hamza00000/data/blob/main/Folder_Copier_Google_Drive_and_Mega9.ipynb",
      "authorship_tag": "ABX9TyPGijigRg3AHjLPwmbUec+r",
      "include_colab_link": true
    },
    "kernelspec": {
      "display_name": "Python 3",
      "name": "python3"
    },
    "language_info": {
      "name": "python"
    }
  },
  "nbformat": 4,
  "nbformat_minor": 0
}